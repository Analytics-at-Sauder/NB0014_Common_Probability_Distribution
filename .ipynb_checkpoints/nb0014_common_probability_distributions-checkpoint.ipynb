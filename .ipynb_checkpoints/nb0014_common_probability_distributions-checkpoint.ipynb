{
 "cells": [
  {
   "cell_type": "markdown",
   "metadata": {},
   "source": [
    "# Common Probability Distributions\n",
    "\n",
    "##### Ahthors: Hossein Piri, Steven Shechter\n",
    "\n",
    "This notebook describes probability distributions often used in simulation modeling, demonstrates how to generate random variables from these distributions, and visualizes the distributions through their density functions and histograms from sampled data. Other distributions to consider adding in the future, which also often arise in certain applications, include: Weibull, Beta, Gamma, Poisson\n",
    "\n",
    "We encourage you to create your own Jupytor notebook and follow along. You can also download this notebook together with any affiliated data in the [Notebooks and Data](https://github.com/Master-of-Business-Analytics/Notebooks_and_Data) GitHub repository. Alternatively, if you do not have Python or Jupyter Notebook installed yet, you may experiment with a virtual notebook by launching Binder or Syzygy below (learn more about these two tools in the [Resource](https://analytics-at-sauder.github.io/resource.html) tab).\n",
    "\n",
    "<a href=\"https://ubc.syzygy.ca/jupyter/hub/user-redirect/git-pull?repo=https%3A%2F%2Fgithub.com%2FAnalytics-at-Sauder%2FNB0014_Common_Probability_Distributions&urlpath=tree%2FNB0014_Common_Probability_Distributions%2Fnb0014_common_probability_distributions.ipynb&branch=master\" target=\"_blank\" class=\"button\">Launch Syzygy (UBC)</a>\n",
    "\n",
    "<a href=\"https://pims.syzygy.ca/jupyter/hub/user-redirect/git-pull?repo=https%3A%2F%2Fgithub.com%2FAnalytics-at-Sauder%2FNB0014_Common_Probability_Distributions&urlpath=tree%2FNB0014_Common_Probability_Distributions%2Fnb0014_common_probability_distributions.ipynb&branch=master\" target=\"_blank\" class=\"button\">Launch Syzygy (Google)</a>\n",
    "\n",
    "<a href=\"https://mybinder.org/v2/gh/Analytics-at-Sauder/NB0014_Common_Probability_Distributions/master?filepath=nb0014_common_probability_distributions.ipynb\" target=\"_blank\" class=\"button\">Launch Binder</a>"
   ]
  },
  {
   "cell_type": "markdown",
   "metadata": {},
   "source": [
    "## Probability distributions detailed in this notebook\n",
    "\n",
    "---\n",
    "\n",
    "### <u> <font color = blue > Discrete Random Variables: </font> </u>\n",
    "\n",
    "### <font color = red> Discrete Uniform Distribution </font>\n",
    " Example cases: often used when all you know is the minimum and maximum values a variable can take, and you know it can take any whole number value in between with equal probability.  This is also used when you want to simulate drawing numbers out of a hat with equal chance, and with replacement each time.  e.g., we can simulate the Birthday Problem by using a discrete uniform between 1 and 365 for each person in the room.  \n",
    "\n",
    "### <font color = red> Binomial Distribution </font>\n",
    " Example cases: you want to generate the random number of people who show up for a flight, when you sold 100 tickets and each person has a .90 probability of showing up.\n",
    "\n",
    "### <font color = red> General Discrete Distribution </font>\n",
    " Example cases: you want to generate random whole numbers or categories, with a specific probability of getting each.  e.g., the group size of a party arriving to a restaurant will be 1, 2, 3, or 4 with probabilities .2, .4, .1, and .3, respectively.\n",
    "\n",
    "### <u> <font color = blue > Continuous Random Variables: </font> </u>\n",
    "\n",
    "### <font color = red> Continuous Uniform Distibution </font>\n",
    " Example cases: often used when all you know is the minimum and maximum values a variable can take, and you assume it can take any continuous value in between with equal probability.  e.g., a service time that takes anywhere between 5 and 10 minutes.\n",
    "\n",
    "### <font color = red> Triangular Distribution </font>\n",
    " Example cases: often used when all you know is the minimum, maximum, and most likely values of a variable e.g., service time that is between 5 and 10 minutes, but  most often takes 7 minutes.\n",
    "\n",
    "### <font color = red> Normal Distribution </font>\n",
    " Example cases: you want to generate random demand that has a normal distribution with mean 150 and standard deviation 25.\n",
    "\n",
    "### <font color = red> Lognormal Distribution </font>\n",
    " Example cases: often used when you want to generate variables with a \"long right tail.\" e.g., incomes in a population are often well-modeled by a log-normal distribution.  e.g., If the ln (natural log) of your data looks like a Normal distribution with mean 4 and standard deviation 1, then you can simulate values as a Lognormal with parameters mean = 4 and sd = 1. \n",
    "\n",
    "### <font color = red> Exponential Distribution </font>\n",
    " Example cases: often used when you want to generate random times between arrivals to a queue; e.g., inter-arrival times that are exponentially  distributed with an average of 5 minutes between arrivals."
   ]
  },
  {
   "cell_type": "markdown",
   "metadata": {},
   "source": [
    "## Examples of how to simulate these random variables\n",
    "\n",
    "---"
   ]
  },
  {
   "cell_type": "code",
   "execution_count": 1,
   "metadata": {},
   "outputs": [],
   "source": [
    "import scipy.stats as ss\n",
    "import numpy as np\n",
    "import matplotlib.pyplot as plt"
   ]
  },
  {
   "cell_type": "markdown",
   "metadata": {},
   "source": [
    "### <font color = red> Discrete Uniform Distribution </font>\n",
    "Example cases: often used when all you know is the minimum and maximum values a variable can take, and you know it can take any whole number value in between with equal probability.  This is also used when you want to simulate drawing numbers out of a hat with equal chance, and with replacement each time.  e.g., we can simulate the Birthday Problem by using a discrete uniform between 1 and 365 for each person in the room."
   ]
  },
  {
   "cell_type": "code",
   "execution_count": 90,
   "metadata": {},
   "outputs": [
    {
     "name": "stdout",
     "output_type": "stream",
     "text": [
      "272\n",
      "182\n",
      "48\n"
     ]
    }
   ],
   "source": [
    "### Specify upper and lower bound\n",
    "lower, upper= 1, 365\n",
    "\n",
    "### FUNCTION TO GENERATE RANDOM VARIABLE FROM THIS DISTRIBUTION: \n",
    "np.random.randint(lower,upper+1)  #note: need the +1 to esnure that we will include the \"upper\" itself.\n",
    "\n",
    "# printing 3 outputs from this distribution\n",
    "print(np.random.randint(lower,upper+1))\n",
    "print(np.random.randint(lower,upper+1))\n",
    "print(np.random.randint(lower,upper+1))"
   ]
  },
  {
   "cell_type": "markdown",
   "metadata": {},
   "source": [
    "### <font color = red> Binomial Distribution </font>\n",
    "Example cases: you want to generate the random number of people who show up for a flight, when you sold 100 tickets and each person has a .90 probability of showing up.   "
   ]
  },
  {
   "cell_type": "code",
   "execution_count": 2,
   "metadata": {},
   "outputs": [
    {
     "name": "stdout",
     "output_type": "stream",
     "text": [
      "93\n",
      "94\n",
      "88\n"
     ]
    }
   ],
   "source": [
    "### Specify n and p\n",
    "n, p = 100, 0.9\n",
    "\n",
    "### FUNCTION TO GENERATE RANDOM VARIABLE FROM THIS DISTRIBUTION:\n",
    "np.random.binomial(n, p)\n",
    "\n",
    "# printing 3 outputs from this distribution\n",
    "print(np.random.binomial(n, p))\n",
    "print(np.random.binomial(n, p))\n",
    "print(np.random.binomial(n, p))"
   ]
  },
  {
   "cell_type": "markdown",
   "metadata": {},
   "source": [
    "### <font color = red> General Discrete Distribution </font>\n",
    "Example cases: you want to generate random whole numbers or categories, with a specific probability of getting each.  e.g., the group size of a party arriving to a restaurant will be 1, 2, 3, or 4 with probabilities .2, .4, .1, and .3, respectively."
   ]
  },
  {
   "cell_type": "code",
   "execution_count": 92,
   "metadata": {},
   "outputs": [
    {
     "name": "stdout",
     "output_type": "stream",
     "text": [
      "2\n",
      "2\n",
      "1\n"
     ]
    }
   ],
   "source": [
    "### Specify your array of possible outcomes and the probability of each outcome\n",
    "your_array=[1,2,3,4]\n",
    "probability=[.2,.4,.1,.3]\n",
    "\n",
    "### check if probability array is valid (i.e., this checks that the sum of probabilities equals 1)\n",
    "if ((np.sum(probability)>1+1e-6)|(np.sum(probability)<1-1e-6)):\n",
    "    print(\"Error: Your array is not valid\")\n",
    "if len(your_array)!=len(probability):\n",
    "    print(\"Error: the size of your array and the assigned probabilities do not match\")\n",
    "    \n",
    "### FUNCTION TO GENERATE RANDOM VARIABLE FROM THIS DISTRIBUTION: \n",
    "np.random.choice(your_array, p=probability)\n",
    "\n",
    "# printing 3 outputs from this distribution\n",
    "print(np.random.choice(your_array, p=probability))\n",
    "print(np.random.choice(your_array, p=probability))\n",
    "print(np.random.choice(your_array, p=probability))"
   ]
  },
  {
   "cell_type": "markdown",
   "metadata": {},
   "source": [
    "### <font color = red> Continuous Uniform Distibution </font>\n",
    "Example cases: often used when all you know is the minimum and maximum values a variable can take, and you assume it can take any continuous value in between with equal probability.  e.g., a service time that takes anywhere between 5 and 10 minutes."
   ]
  },
  {
   "cell_type": "code",
   "execution_count": 93,
   "metadata": {},
   "outputs": [
    {
     "name": "stdout",
     "output_type": "stream",
     "text": [
      "[5.82251074]\n",
      "[5.84700153]\n",
      "[8.81755393]\n"
     ]
    }
   ],
   "source": [
    "### Specify upper and lower bound\n",
    "lower, upper= 5, 10\n",
    "\n",
    "### FUNCTION TO GENERATE RANDOM VARIABLE FROM THIS DISTRIBUTION: \n",
    "np.random.uniform(lower, upper, 1)\n",
    "\n",
    "# printing 3 outputs from this distribution\n",
    "print(np.random.uniform(lower, upper, 1)) # 1 means that I need to generate 1 random number \n",
    "print(np.random.uniform(lower, upper, 1))\n",
    "print(np.random.uniform(lower, upper, 1))"
   ]
  },
  {
   "cell_type": "markdown",
   "metadata": {},
   "source": [
    "### <font color = red> Triangular Distribution </font>\n",
    "Example cases: often used when all you know is the minimum, maximum, and most likely values of a variable e.g., service time that is between 5 and 10 minutes, but  most often takes 7 minutes."
   ]
  },
  {
   "cell_type": "code",
   "execution_count": 94,
   "metadata": {},
   "outputs": [
    {
     "name": "stdout",
     "output_type": "stream",
     "text": [
      "[7.15691271]\n",
      "[6.67251991]\n",
      "[6.18580362]\n"
     ]
    }
   ],
   "source": [
    "### Specify min, mode, max\n",
    "Min = 5\n",
    "Mode= 7\n",
    "Max= 10 \n",
    "\n",
    "### FUNCTION TO GENERATE RANDOM VARIABLE FROM THIS DISTRIBUTION: \n",
    "np.random.triangular(Min,Mode,Max, 1)\n",
    "\n",
    "# printing 3 outputs from this distribution\n",
    "print(np.random.triangular(Min,Mode,Max, 1)) # 1 means that I need to generate 1 random number \n",
    "print(np.random.triangular(Min,Mode,Max, 1))\n",
    "print(np.random.triangular(Min,Mode,Max, 1))"
   ]
  },
  {
   "cell_type": "markdown",
   "metadata": {},
   "source": [
    "### <font color = red> Normal Distribution </font>\n",
    "Example cases: you want to generate random demand that has a normal distribution with mean 150 and standard deviation 25."
   ]
  },
  {
   "cell_type": "code",
   "execution_count": 95,
   "metadata": {},
   "outputs": [
    {
     "name": "stdout",
     "output_type": "stream",
     "text": [
      "[171.96470781]\n",
      "[154.90223985]\n",
      "[136.76167883]\n"
     ]
    }
   ],
   "source": [
    "### Specify mean and standard deviation\n",
    "mu, sigma = 150, 25 \n",
    "\n",
    "### FUNCTION TO GENERATE RANDOM VARIABLE FROM THIS DISTRIBUTION:\n",
    "np.random.normal(mu,sigma,1) \n",
    "\n",
    "# printing 3 outputs from this distribution\n",
    "print(np.random.normal(mu,sigma,1) ) # 1 means that I need to generate 1 random number \n",
    "print(np.random.normal(mu,sigma,1) ) \n",
    "print(np.random.normal(mu,sigma,1) ) "
   ]
  },
  {
   "cell_type": "markdown",
   "metadata": {},
   "source": [
    "### <font color = red> Lognormal Distribution </font>\n",
    "Example cases: often used when you want to generate variables with a \"long right tail.\" e.g., incomes in a population are often well-modeled by a log-normal distribution.  e.g., If the ln (natural log) of your data looks like a Normal distribution with mean 4 and standard deviation 1, then you can simulate values as a Lognormal with parameters mean = 4 and sd = 1. "
   ]
  },
  {
   "cell_type": "code",
   "execution_count": 96,
   "metadata": {},
   "outputs": [
    {
     "name": "stdout",
     "output_type": "stream",
     "text": [
      "[24.79951668]\n",
      "[35.19124152]\n",
      "[45.98108506]\n"
     ]
    }
   ],
   "source": [
    "### Specify the mean and standard deviation of the natural log of the random variable\n",
    "mu, sigma = 4, 1 \n",
    "\n",
    "### FUNCTION TO GENERATE RANDOM VARIABLE FROM THIS DISTRIBUTION:\n",
    "np.random.lognormal(mu, sigma, 1)\n",
    "\n",
    "# printing 3 outputs from this distribution\n",
    "print(np.random.lognormal(mu, sigma, 1))  # 1 means that I need to generate 1 random number \n",
    "print(np.random.lognormal(mu, sigma, 1)) \n",
    "print(np.random.lognormal(mu, sigma, 1)) "
   ]
  },
  {
   "cell_type": "markdown",
   "metadata": {},
   "source": [
    "### <font color = red> Exponential Distribution </font>\n",
    "Example cases: often used when you want to generate random times between arrivals to a queue; e.g., inter-arrival times that are exponentially  distributed with an average of 5 minutes between arrivals."
   ]
  },
  {
   "cell_type": "code",
   "execution_count": 3,
   "metadata": {},
   "outputs": [
    {
     "name": "stdout",
     "output_type": "stream",
     "text": [
      "[0.50251511]\n",
      "[2.1734863]\n",
      "[35.19966146]\n"
     ]
    }
   ],
   "source": [
    "### Specify the mean\n",
    "mean = 5  \n",
    "\n",
    "### FUNCTION TO GENERATE RANDOM VARIABLE FROM THIS DISTRIBUTION:\n",
    "np.random.exponential(mean, 1)\n",
    "\n",
    "# printing 3 outputs from this distribution\n",
    "print(np.random.exponential(mean, 1)) # 1 means that I need to generate 1 random number \n",
    "print(np.random.exponential(mean, 1)) \n",
    "print(np.random.exponential(mean, 1)) "
   ]
  },
  {
   "cell_type": "markdown",
   "metadata": {},
   "source": [
    "## Visualizations of these random variable distributions: Displaying the histogram of many samples (in blue), along with the probability density function (in red):\n",
    "\n",
    "---"
   ]
  },
  {
   "cell_type": "markdown",
   "metadata": {},
   "source": [
    "### <font color = red> Discrete Uniform Distribution </font>"
   ]
  },
  {
   "cell_type": "code",
   "execution_count": 98,
   "metadata": {},
   "outputs": [
    {
     "data": {
      "image/png": "[encoded data removed]",
      "text/plain": [
       "<Figure size 432x288 with 1 Axes>"
      ]
     },
     "metadata": {},
     "output_type": "display_data"
    }
   ],
   "source": [
    "### Specify upper and lower bound\n",
    "lower, upper= 1, 10\n",
    "\n",
    "# Display the probability mass function (pmf):\n",
    "fig, ax = plt.subplots(1, 1) # This sets the ground for plotting two things simultaneously\n",
    "\n",
    "# Here I generate x and y for plotting PDF of uniform\n",
    "x =range(lower,upper+1)\n",
    "y=(1/len(x)) *np.ones(len(x))\n",
    "\n",
    "ax.plot(x, y, 'bo', ms=8, label='discrete uniform pmf', color='r') # These two lines plot the pdf.\n",
    "ax.vlines(x, 0, y, colors='b', lw=5, alpha=0.5, color='r')\n",
    "\n",
    "#Generate random numbers:\n",
    "#### How many random numbers you would like to generate\n",
    "N=1000\n",
    "result=[]\n",
    "for trial in range(N):\n",
    "    outcome=np.random.randint(lower,upper+1)\n",
    "    result.append(outcome)\n",
    "    \n",
    "    \n",
    "# And compare the histogram:\n",
    "bins = np.arange(np.floor(min(x)), np.ceil(max(x))+2)-0.5 \n",
    "count, bins, ignored=ax.hist(result, density=True,bins=bins , histtype='stepfilled')\n",
    "plt.show()"
   ]
  },
  {
   "cell_type": "markdown",
   "metadata": {},
   "source": [
    "### <font color = red> Binomial Distribution </font>"
   ]
  },
  {
   "cell_type": "code",
   "execution_count": 99,
   "metadata": {},
   "outputs": [
    {
     "data": {
      "image/png": "[encoded data removed]",
      "text/plain": [
       "<Figure size 432x288 with 1 Axes>"
      ]
     },
     "metadata": {},
     "output_type": "display_data"
    }
   ],
   "source": [
    "### Specify n and p\n",
    "n, p = 100, 0.9\n",
    "\n",
    "fig, ax = plt.subplots(1, 1)\n",
    "\n",
    "# Display the probability mass function (pmf):\n",
    "x = np.arange(ss.binom.ppf(0.01, n, p),ss.binom.ppf(0.99, n, p))\n",
    "ax.plot(x,ss. binom.pmf(x, n, p), 'bo', ms=8, label='binom pmf', color='r')\n",
    "ax.vlines(x, 0, ss.binom.pmf(x, n, p), colors='b', lw=5, alpha=0.5, color='r')\n",
    "\n",
    "\n",
    "#How many random numbers you would like to generate\n",
    "N=1000 #\n",
    "result=[]\n",
    "for trial in range(N):\n",
    "    outcome=np.random.binomial(n, p)\n",
    "    result.append(outcome)\n",
    "    \n",
    "# And compare the histogram:   \n",
    "bins = np.arange(np.floor(min(x)), np.ceil(max(x))+2)   -0.5\n",
    "count, bins, ignored=ax.hist(result, density=True, bins=bins, histtype='stepfilled')\n",
    "plt.show()"
   ]
  },
  {
   "cell_type": "markdown",
   "metadata": {},
   "source": [
    "### <font color = red> General Discrete Distribution </font>"
   ]
  },
  {
   "cell_type": "code",
   "execution_count": 100,
   "metadata": {},
   "outputs": [
    {
     "data": {
      "image/png": "[encoded data removed]",
      "text/plain": [
       "<Figure size 432x288 with 1 Axes>"
      ]
     },
     "metadata": {},
     "output_type": "display_data"
    }
   ],
   "source": [
    "### Specify your array of possible outcomes and the probability of each outcome\n",
    "your_array=[1,2,3,4]\n",
    "probability=[.2,.4,.1,.3]\n",
    "\n",
    "# Display the probability mass function (pmf):\n",
    "fig, ax = plt.subplots(1, 1)\n",
    "x =your_array\n",
    "y=probability\n",
    "ax.plot(x, y, 'bo', ms=8, label='binom pmf', color='r')\n",
    "ax.vlines(x, 0, y, colors='b', lw=5, alpha=0.5, color='r')\n",
    "\n",
    "\n",
    "#### How many random numbers you would like to generate\n",
    "N=1000\n",
    "\n",
    "result=[]\n",
    "for trial in range(N):\n",
    "    outcome= np.random.choice(your_array, p=probability)\n",
    "    result.append(outcome)\n",
    "    \n",
    "    \n",
    "# And compare the histogram:\n",
    "bins = np.arange(np.floor(min(x)), np.ceil(max(x))+2)-0.5  \n",
    "count, bins, ignored=ax.hist(result,bins=bins, density=True, histtype='stepfilled')\n",
    "plt.show()"
   ]
  },
  {
   "cell_type": "markdown",
   "metadata": {},
   "source": [
    "### <font color = red> Continuous Uniform Distibution </font>"
   ]
  },
  {
   "cell_type": "code",
   "execution_count": 101,
   "metadata": {},
   "outputs": [
    {
     "data": {
      "image/png": "[encoded data removed]",
      "text/plain": [
       "<Figure size 432x288 with 1 Axes>"
      ]
     },
     "metadata": {},
     "output_type": "display_data"
    }
   ],
   "source": [
    "### Specify upper and lower bound\n",
    "lower, upper= 5, 10\n",
    "\n",
    "#### How many random numbers you would like to generate\n",
    "N=1000\n",
    "result = np.random.uniform(lower, upper, N)\n",
    "\n",
    "### Display the histogram of the samples, along with the probability density function:\n",
    "\n",
    "#### Histogram\n",
    "num_bins=100\n",
    "count, bins, ignored = plt.hist(result,num_bins, density=True, align='mid')\n",
    "\n",
    "#### PDF\n",
    "x = np.linspace(min(bins), max(bins), 10000)\n",
    "width=x[1]-x[0] ### Take the width of each bar\n",
    "size=np.size(x)\n",
    "pdf =( (1/size) *np.ones(size) )/width\n",
    "plt.plot(x, pdf, linewidth=2, color='r')\n",
    "plt.axis('tight')\n",
    "plt.show()"
   ]
  },
  {
   "cell_type": "markdown",
   "metadata": {},
   "source": [
    "### <font color = red> Triangular Distribution </font>"
   ]
  },
  {
   "cell_type": "code",
   "execution_count": 26,
   "metadata": {},
   "outputs": [
    {
     "data": {
      "image/png": "[encoded data removed]",
      "text/plain": [
       "<Figure size 432x288 with 1 Axes>"
      ]
     },
     "metadata": {},
     "output_type": "display_data"
    }
   ],
   "source": [
    "### Specify min, mode, max\n",
    "Min = 5\n",
    "Mode= 7\n",
    "Max= 10 \n",
    "\n",
    "#### How many random numbers you would like to generate\n",
    "N=10000\n",
    "result  = np.random.triangular(Min,Mode,Max, N)\n",
    "\n",
    "### Display the histogram of the samples, along with the probability density function:\n",
    "\n",
    "num_bins=100\n",
    "count, bins, ignored = plt.hist(result , num_bins, density=True, align='mid')\n",
    "x = np.linspace(min(bins), max(bins), 1000)\n",
    "line1=2*(x-Min)/((Max-Min)*(Mode-Min))\n",
    "line2=2*(Max-x)/((Max-Min)*(Max-Mode))\n",
    "pdf = [min(line1[i],line2[i]) for i in range(len(line1))] ### Choose the minimum of two lines\n",
    "plt.plot(x, pdf, linewidth=2, color='r')\n",
    "plt.axis('tight')\n",
    "plt.show()\n"
   ]
  },
  {
   "cell_type": "markdown",
   "metadata": {},
   "source": [
    "### <font color = red> Normal Distribution </font>"
   ]
  },
  {
   "cell_type": "code",
   "execution_count": 103,
   "metadata": {},
   "outputs": [
    {
     "data": {
      "image/png": "[encoded data removed]",
      "text/plain": [
       "<Figure size 432x288 with 1 Axes>"
      ]
     },
     "metadata": {},
     "output_type": "display_data"
    }
   ],
   "source": [
    "# Specify the mean and standard deviation\n",
    "mu, sigma = 150, 25 \n",
    "\n",
    "#### How many random numbers you would like to generate\n",
    "N=1000\n",
    "\n",
    "result= np.random.normal(mu,sigma,N) ### generate N random numbers\n",
    "\n",
    "### Display the histogram of the samples, along with the probability density function:\n",
    "num_bins=30\n",
    "count, bins, ignored = plt.hist(result, num_bins, density=True)\n",
    "plt.plot(bins, 1/(sigma * np.sqrt(2 * np.pi)) *np.exp( - (bins - mu)**2 / (2 * sigma**2) ),linewidth=2, color='r')\n",
    "plt.show()"
   ]
  },
  {
   "cell_type": "markdown",
   "metadata": {},
   "source": [
    "### <font color = red> Lognormal Distribution </font>"
   ]
  },
  {
   "cell_type": "code",
   "execution_count": 39,
   "metadata": {},
   "outputs": [
    {
     "data": {
      "image/png": "[encoded data removed]",
      "text/plain": [
       "<Figure size 432x288 with 1 Axes>"
      ]
     },
     "metadata": {},
     "output_type": "display_data"
    }
   ],
   "source": [
    "### Specify the mean and standard deviation of the natural log of the random variable\n",
    "mu, sigma = 4, 1 \n",
    "\n",
    "#### How many random numbers you would like to generate\n",
    "N=1000\n",
    "result = np.random.lognormal(mu, sigma, N)\n",
    "\n",
    "### Display the histogram of the samples, along with the probability density function:\n",
    "\n",
    "bins = np.linspace(.1,500) #cutting it off at 500\n",
    "count, bins, ignored = plt.hist(result,bins = bins, density=True, align='mid')\n",
    "x = np.linspace(min(bins), 500, 10000)\n",
    "\n",
    "pdf = (np.exp(-(np.log(x) - mu)**2 / (2 * sigma**2))/ (x * sigma * np.sqrt(2 * np.pi)))\n",
    "plt.plot(x, pdf, linewidth=2, color='r')\n",
    "plt.axis('tight')\n",
    "plt.show()"
   ]
  },
  {
   "cell_type": "markdown",
   "metadata": {},
   "source": [
    "### <font color = red> Exponential Distribution </font>"
   ]
  },
  {
   "cell_type": "code",
   "execution_count": 105,
   "metadata": {},
   "outputs": [
    {
     "data": {
      "image/png": "[encoded data removed]",
      "text/plain": [
       "<Figure size 432x288 with 1 Axes>"
      ]
     },
     "metadata": {},
     "output_type": "display_data"
    }
   ],
   "source": [
    "### Specify the mean\n",
    "mean = 5\n",
    "\n",
    "#### How many random numbers you would like to generate\n",
    "N=1000\n",
    "result = np.random.exponential(mean, N)\n",
    "\n",
    "### Display the histogram of the samples, along with the probability density function:\n",
    "\n",
    "num_bins=100\n",
    "count, bins, ignored = plt.hist(result , num_bins, density=True, align='mid')\n",
    "x = np.linspace(min(bins), 800, 10000)\n",
    "pdf = 1/mean*np.exp(-1/mean*x)\n",
    "plt.plot(x, pdf, linewidth=2, color='r')\n",
    "plt.axis('tight')\n",
    "plt.show()"
   ]
  }
 ],
 "metadata": {
  "kernelspec": {
   "display_name": "Python 3",
   "language": "python",
   "name": "python3"
  },
  "language_info": {
   "codemirror_mode": {
    "name": "ipython",
    "version": 3
   },
   "file_extension": ".py",
   "mimetype": "text/x-python",
   "name": "python",
   "nbconvert_exporter": "python",
   "pygments_lexer": "ipython3",
   "version": "3.7.7"
  },
  "toc": {
   "base_numbering": 1,
   "nav_menu": {},
   "number_sections": false,
   "sideBar": true,
   "skip_h1_title": false,
   "title_cell": "Table of Contents",
   "title_sidebar": "Contents",
   "toc_cell": false,
   "toc_position": {},
   "toc_section_display": true,
   "toc_window_display": false
  }
 },
 "nbformat": 4,
 "nbformat_minor": 4
}
